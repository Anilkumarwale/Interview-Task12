{
 "cells": [
  {
   "cell_type": "code",
   "execution_count": null,
   "metadata": {
    "id": "yT9bfPzjbT60"
   },
   "outputs": [],
   "source": [
    "import pandas as pd\n",
    "import json"
   ]
  },
  {
   "cell_type": "code",
   "execution_count": null,
   "metadata": {
    "id": "aruhXx13bl15"
   },
   "outputs": [],
   "source": [
    "df = pd.read_csv(\"/content/test3_1.csv\")"
   ]
  },
  {
   "cell_type": "code",
   "execution_count": null,
   "metadata": {
    "colab": {
     "base_uri": "https://localhost:8080/",
     "height": 549
    },
    "id": "NcUm5k5nbsIo",
    "outputId": "71ec22f8-cdbb-43eb-cc8f-0e16aa69d7fe"
   },
   "outputs": [
    {
     "data": {
      "text/html": [
       "\n",
       "  <div id=\"df-797ee740-30c0-42d6-812a-142175323112\">\n",
       "    <div class=\"colab-df-container\">\n",
       "      <div>\n",
       "<style scoped>\n",
       "    .dataframe tbody tr th:only-of-type {\n",
       "        vertical-align: middle;\n",
       "    }\n",
       "\n",
       "    .dataframe tbody tr th {\n",
       "        vertical-align: top;\n",
       "    }\n",
       "\n",
       "    .dataframe thead th {\n",
       "        text-align: right;\n",
       "    }\n",
       "</style>\n",
       "<table border=\"1\" class=\"dataframe\">\n",
       "  <thead>\n",
       "    <tr style=\"text-align: right;\">\n",
       "      <th></th>\n",
       "      <th>Doc.Num</th>\n",
       "      <th>Itm.no</th>\n",
       "      <th>Bill Date</th>\n",
       "      <th>Currency</th>\n",
       "      <th>Payer City</th>\n",
       "      <th>Invoice Quantity</th>\n",
       "      <th>MRP Value</th>\n",
       "      <th>Cost Price</th>\n",
       "      <th>Taxable Amount</th>\n",
       "      <th>Total Tax</th>\n",
       "      <th>Total Amount</th>\n",
       "      <th>MRP Price</th>\n",
       "    </tr>\n",
       "  </thead>\n",
       "  <tbody>\n",
       "    <tr>\n",
       "      <th>0</th>\n",
       "      <td>1823137837</td>\n",
       "      <td>12</td>\n",
       "      <td>16-04-2022</td>\n",
       "      <td>INR</td>\n",
       "      <td>NIZAMABAD</td>\n",
       "      <td>300</td>\n",
       "      <td>300</td>\n",
       "      <td>4836.0</td>\n",
       "      <td>68.64</td>\n",
       "      <td>12.36</td>\n",
       "      <td>81.00</td>\n",
       "      <td>1</td>\n",
       "    </tr>\n",
       "    <tr>\n",
       "      <th>1</th>\n",
       "      <td>1823138032</td>\n",
       "      <td>12</td>\n",
       "      <td>16-04-2022</td>\n",
       "      <td>INR</td>\n",
       "      <td>GUNTUR</td>\n",
       "      <td>11</td>\n",
       "      <td>66</td>\n",
       "      <td>18040.0</td>\n",
       "      <td>40.83</td>\n",
       "      <td>7.35</td>\n",
       "      <td>48.18</td>\n",
       "      <td>6</td>\n",
       "    </tr>\n",
       "    <tr>\n",
       "      <th>2</th>\n",
       "      <td>1823138032</td>\n",
       "      <td>22</td>\n",
       "      <td>16-04-2022</td>\n",
       "      <td>INR</td>\n",
       "      <td>GUNTUR</td>\n",
       "      <td>4</td>\n",
       "      <td>28</td>\n",
       "      <td>8880.0</td>\n",
       "      <td>17.32</td>\n",
       "      <td>3.12</td>\n",
       "      <td>20.44</td>\n",
       "      <td>7</td>\n",
       "    </tr>\n",
       "    <tr>\n",
       "      <th>3</th>\n",
       "      <td>1823138032</td>\n",
       "      <td>32</td>\n",
       "      <td>16-04-2022</td>\n",
       "      <td>INR</td>\n",
       "      <td>GUNTUR</td>\n",
       "      <td>28</td>\n",
       "      <td>140</td>\n",
       "      <td>21280.0</td>\n",
       "      <td>86.61</td>\n",
       "      <td>15.59</td>\n",
       "      <td>102.20</td>\n",
       "      <td>5</td>\n",
       "    </tr>\n",
       "    <tr>\n",
       "      <th>4</th>\n",
       "      <td>1823143995</td>\n",
       "      <td>10</td>\n",
       "      <td>16-04-2022</td>\n",
       "      <td>INR</td>\n",
       "      <td>BENGALURU</td>\n",
       "      <td>1</td>\n",
       "      <td>1899</td>\n",
       "      <td>585.0</td>\n",
       "      <td>676.42</td>\n",
       "      <td>33.82</td>\n",
       "      <td>710.24</td>\n",
       "      <td>1899</td>\n",
       "    </tr>\n",
       "    <tr>\n",
       "      <th>5</th>\n",
       "      <td>1823144994</td>\n",
       "      <td>12</td>\n",
       "      <td>16-04-2022</td>\n",
       "      <td>INR</td>\n",
       "      <td>HUBLI</td>\n",
       "      <td>400</td>\n",
       "      <td>400</td>\n",
       "      <td>6448.0</td>\n",
       "      <td>108.00</td>\n",
       "      <td>0.00</td>\n",
       "      <td>108.00</td>\n",
       "      <td>1</td>\n",
       "    </tr>\n",
       "    <tr>\n",
       "      <th>6</th>\n",
       "      <td>1823146501</td>\n",
       "      <td>10</td>\n",
       "      <td>16-04-2022</td>\n",
       "      <td>INR</td>\n",
       "      <td>BENGALURU</td>\n",
       "      <td>1</td>\n",
       "      <td>1599</td>\n",
       "      <td>340.0</td>\n",
       "      <td>516.39</td>\n",
       "      <td>26.36</td>\n",
       "      <td>542.75</td>\n",
       "      <td>1599</td>\n",
       "    </tr>\n",
       "    <tr>\n",
       "      <th>7</th>\n",
       "      <td>1823146527</td>\n",
       "      <td>12</td>\n",
       "      <td>16-04-2022</td>\n",
       "      <td>INR</td>\n",
       "      <td>MANCHERIAL</td>\n",
       "      <td>300</td>\n",
       "      <td>300</td>\n",
       "      <td>4836.0</td>\n",
       "      <td>68.64</td>\n",
       "      <td>12.36</td>\n",
       "      <td>81.00</td>\n",
       "      <td>1</td>\n",
       "    </tr>\n",
       "    <tr>\n",
       "      <th>8</th>\n",
       "      <td>1823146661</td>\n",
       "      <td>12</td>\n",
       "      <td>16-04-2022</td>\n",
       "      <td>INR</td>\n",
       "      <td>HYDERABAD</td>\n",
       "      <td>1</td>\n",
       "      <td>2399</td>\n",
       "      <td>504.2</td>\n",
       "      <td>753.97</td>\n",
       "      <td>37.70</td>\n",
       "      <td>791.67</td>\n",
       "      <td>2399</td>\n",
       "    </tr>\n",
       "  </tbody>\n",
       "</table>\n",
       "</div>\n",
       "      <button class=\"colab-df-convert\" onclick=\"convertToInteractive('df-797ee740-30c0-42d6-812a-142175323112')\"\n",
       "              title=\"Convert this dataframe to an interactive table.\"\n",
       "              style=\"display:none;\">\n",
       "        \n",
       "  <svg xmlns=\"http://www.w3.org/2000/svg\" height=\"24px\"viewBox=\"0 0 24 24\"\n",
       "       width=\"24px\">\n",
       "    <path d=\"M0 0h24v24H0V0z\" fill=\"none\"/>\n",
       "    <path d=\"M18.56 5.44l.94 2.06.94-2.06 2.06-.94-2.06-.94-.94-2.06-.94 2.06-2.06.94zm-11 1L8.5 8.5l.94-2.06 2.06-.94-2.06-.94L8.5 2.5l-.94 2.06-2.06.94zm10 10l.94 2.06.94-2.06 2.06-.94-2.06-.94-.94-2.06-.94 2.06-2.06.94z\"/><path d=\"M17.41 7.96l-1.37-1.37c-.4-.4-.92-.59-1.43-.59-.52 0-1.04.2-1.43.59L10.3 9.45l-7.72 7.72c-.78.78-.78 2.05 0 2.83L4 21.41c.39.39.9.59 1.41.59.51 0 1.02-.2 1.41-.59l7.78-7.78 2.81-2.81c.8-.78.8-2.07 0-2.86zM5.41 20L4 18.59l7.72-7.72 1.47 1.35L5.41 20z\"/>\n",
       "  </svg>\n",
       "      </button>\n",
       "      \n",
       "  <style>\n",
       "    .colab-df-container {\n",
       "      display:flex;\n",
       "      flex-wrap:wrap;\n",
       "      gap: 12px;\n",
       "    }\n",
       "\n",
       "    .colab-df-convert {\n",
       "      background-color: #E8F0FE;\n",
       "      border: none;\n",
       "      border-radius: 50%;\n",
       "      cursor: pointer;\n",
       "      display: none;\n",
       "      fill: #1967D2;\n",
       "      height: 32px;\n",
       "      padding: 0 0 0 0;\n",
       "      width: 32px;\n",
       "    }\n",
       "\n",
       "    .colab-df-convert:hover {\n",
       "      background-color: #E2EBFA;\n",
       "      box-shadow: 0px 1px 2px rgba(60, 64, 67, 0.3), 0px 1px 3px 1px rgba(60, 64, 67, 0.15);\n",
       "      fill: #174EA6;\n",
       "    }\n",
       "\n",
       "    [theme=dark] .colab-df-convert {\n",
       "      background-color: #3B4455;\n",
       "      fill: #D2E3FC;\n",
       "    }\n",
       "\n",
       "    [theme=dark] .colab-df-convert:hover {\n",
       "      background-color: #434B5C;\n",
       "      box-shadow: 0px 1px 3px 1px rgba(0, 0, 0, 0.15);\n",
       "      filter: drop-shadow(0px 1px 2px rgba(0, 0, 0, 0.3));\n",
       "      fill: #FFFFFF;\n",
       "    }\n",
       "  </style>\n",
       "\n",
       "      <script>\n",
       "        const buttonEl =\n",
       "          document.querySelector('#df-797ee740-30c0-42d6-812a-142175323112 button.colab-df-convert');\n",
       "        buttonEl.style.display =\n",
       "          google.colab.kernel.accessAllowed ? 'block' : 'none';\n",
       "\n",
       "        async function convertToInteractive(key) {\n",
       "          const element = document.querySelector('#df-797ee740-30c0-42d6-812a-142175323112');\n",
       "          const dataTable =\n",
       "            await google.colab.kernel.invokeFunction('convertToInteractive',\n",
       "                                                     [key], {});\n",
       "          if (!dataTable) return;\n",
       "\n",
       "          const docLinkHtml = 'Like what you see? Visit the ' +\n",
       "            '<a target=\"_blank\" href=https://colab.research.google.com/notebooks/data_table.ipynb>data table notebook</a>'\n",
       "            + ' to learn more about interactive tables.';\n",
       "          element.innerHTML = '';\n",
       "          dataTable['output_type'] = 'display_data';\n",
       "          await google.colab.output.renderOutput(dataTable, element);\n",
       "          const docLink = document.createElement('div');\n",
       "          docLink.innerHTML = docLinkHtml;\n",
       "          element.appendChild(docLink);\n",
       "        }\n",
       "      </script>\n",
       "    </div>\n",
       "  </div>\n",
       "  "
      ],
      "text/plain": [
       "      Doc.Num  Itm.no   Bill Date Currency  Payer City  Invoice Quantity  \\\n",
       "0  1823137837      12  16-04-2022      INR   NIZAMABAD               300   \n",
       "1  1823138032      12  16-04-2022      INR      GUNTUR                11   \n",
       "2  1823138032      22  16-04-2022      INR      GUNTUR                 4   \n",
       "3  1823138032      32  16-04-2022      INR      GUNTUR                28   \n",
       "4  1823143995      10  16-04-2022      INR   BENGALURU                 1   \n",
       "5  1823144994      12  16-04-2022      INR       HUBLI               400   \n",
       "6  1823146501      10  16-04-2022      INR   BENGALURU                 1   \n",
       "7  1823146527      12  16-04-2022      INR  MANCHERIAL               300   \n",
       "8  1823146661      12  16-04-2022      INR   HYDERABAD                 1   \n",
       "\n",
       "   MRP Value  Cost Price  Taxable Amount  Total Tax  Total Amount  MRP Price  \n",
       "0        300      4836.0           68.64      12.36         81.00          1  \n",
       "1         66     18040.0           40.83       7.35         48.18          6  \n",
       "2         28      8880.0           17.32       3.12         20.44          7  \n",
       "3        140     21280.0           86.61      15.59        102.20          5  \n",
       "4       1899       585.0          676.42      33.82        710.24       1899  \n",
       "5        400      6448.0          108.00       0.00        108.00          1  \n",
       "6       1599       340.0          516.39      26.36        542.75       1599  \n",
       "7        300      4836.0           68.64      12.36         81.00          1  \n",
       "8       2399       504.2          753.97      37.70        791.67       2399  "
      ]
     },
     "execution_count": 32,
     "metadata": {},
     "output_type": "execute_result"
    }
   ],
   "source": [
    "df"
   ]
  },
  {
   "cell_type": "code",
   "execution_count": null,
   "metadata": {
    "id": "SL88u-sie94j"
   },
   "outputs": [],
   "source": [
    "lst = []\n",
    "for i in range(len(df)):\n",
    "  lst.append(df.iloc[i].to_json())"
   ]
  },
  {
   "cell_type": "code",
   "execution_count": null,
   "metadata": {
    "id": "N8L6MtOXjYdM"
   },
   "outputs": [],
   "source": [
    "jsn_dmp = json.dumps(lst, indent = 4)"
   ]
  },
  {
   "cell_type": "code",
   "execution_count": null,
   "metadata": {
    "id": "Ka3r6Ul4kL2z"
   },
   "outputs": [],
   "source": [
    "with open(\"final.json\", \"w\") as out:\n",
    "    out.write(jsn_dmp)"
   ]
  },
  {
   "cell_type": "code",
   "execution_count": null,
   "metadata": {
    "colab": {
     "base_uri": "https://localhost:8080/",
     "height": 157
    },
    "id": "s-Mu6YrvklWa",
    "outputId": "3e9fdd83-0c1b-4589-c535-255d1a137363"
   },
   "outputs": [
    {
     "data": {
      "application/vnd.google.colaboratory.intrinsic+json": {
       "type": "string"
      },
      "text/plain": [
       "'[\\n    \"{\\\\\"Doc.Num\\\\\":1823137837,\\\\\"Itm.no\\\\\":12,\\\\\"Bill Date\\\\\":\\\\\"16-04-2022\\\\\",\\\\\"Currency\\\\\":\\\\\"INR\\\\\",\\\\\"Payer City\\\\\":\\\\\"NIZAMABAD\\\\\",\\\\\"Invoice Quantity\\\\\":300,\\\\\"MRP Value\\\\\":300,\\\\\"Cost Price\\\\\":4836.0,\\\\\"Taxable Amount\\\\\":68.64,\\\\\"Total Tax\\\\\":12.36,\\\\\"Total Amount\\\\\":81.0,\\\\\"MRP Price\\\\\":1}\",\\n    \"{\\\\\"Doc.Num\\\\\":1823138032,\\\\\"Itm.no\\\\\":12,\\\\\"Bill Date\\\\\":\\\\\"16-04-2022\\\\\",\\\\\"Currency\\\\\":\\\\\"INR\\\\\",\\\\\"Payer City\\\\\":\\\\\"GUNTUR\\\\\",\\\\\"Invoice Quantity\\\\\":11,\\\\\"MRP Value\\\\\":66,\\\\\"Cost Price\\\\\":18040.0,\\\\\"Taxable Amount\\\\\":40.83,\\\\\"Total Tax\\\\\":7.35,\\\\\"Total Amount\\\\\":48.18,\\\\\"MRP Price\\\\\":6}\",\\n    \"{\\\\\"Doc.Num\\\\\":1823138032,\\\\\"Itm.no\\\\\":22,\\\\\"Bill Date\\\\\":\\\\\"16-04-2022\\\\\",\\\\\"Currency\\\\\":\\\\\"INR\\\\\",\\\\\"Payer City\\\\\":\\\\\"GUNTUR\\\\\",\\\\\"Invoice Quantity\\\\\":4,\\\\\"MRP Value\\\\\":28,\\\\\"Cost Price\\\\\":8880.0,\\\\\"Taxable Amount\\\\\":17.32,\\\\\"Total Tax\\\\\":3.12,\\\\\"Total Amount\\\\\":20.44,\\\\\"MRP Price\\\\\":7}\",\\n    \"{\\\\\"Doc.Num\\\\\":1823138032,\\\\\"Itm.no\\\\\":32,\\\\\"Bill Date\\\\\":\\\\\"16-04-2022\\\\\",\\\\\"Currency\\\\\":\\\\\"INR\\\\\",\\\\\"Payer City\\\\\":\\\\\"GUNTUR\\\\\",\\\\\"Invoice Quantity\\\\\":28,\\\\\"MRP Value\\\\\":140,\\\\\"Cost Price\\\\\":21280.0,\\\\\"Taxable Amount\\\\\":86.61,\\\\\"Total Tax\\\\\":15.59,\\\\\"Total Amount\\\\\":102.2,\\\\\"MRP Price\\\\\":5}\",\\n    \"{\\\\\"Doc.Num\\\\\":1823143995,\\\\\"Itm.no\\\\\":10,\\\\\"Bill Date\\\\\":\\\\\"16-04-2022\\\\\",\\\\\"Currency\\\\\":\\\\\"INR\\\\\",\\\\\"Payer City\\\\\":\\\\\"BENGALURU\\\\\",\\\\\"Invoice Quantity\\\\\":1,\\\\\"MRP Value\\\\\":1899,\\\\\"Cost Price\\\\\":585.0,\\\\\"Taxable Amount\\\\\":676.42,\\\\\"Total Tax\\\\\":33.82,\\\\\"Total Amount\\\\\":710.24,\\\\\"MRP Price\\\\\":1899}\",\\n    \"{\\\\\"Doc.Num\\\\\":1823144994,\\\\\"Itm.no\\\\\":12,\\\\\"Bill Date\\\\\":\\\\\"16-04-2022\\\\\",\\\\\"Currency\\\\\":\\\\\"INR\\\\\",\\\\\"Payer City\\\\\":\\\\\"HUBLI\\\\\",\\\\\"Invoice Quantity\\\\\":400,\\\\\"MRP Value\\\\\":400,\\\\\"Cost Price\\\\\":6448.0,\\\\\"Taxable Amount\\\\\":108.0,\\\\\"Total Tax\\\\\":0.0,\\\\\"Total Amount\\\\\":108.0,\\\\\"MRP Price\\\\\":1}\",\\n    \"{\\\\\"Doc.Num\\\\\":1823146501,\\\\\"Itm.no\\\\\":10,\\\\\"Bill Date\\\\\":\\\\\"16-04-2022\\\\\",\\\\\"Currency\\\\\":\\\\\"INR\\\\\",\\\\\"Payer City\\\\\":\\\\\"BENGALURU\\\\\",\\\\\"Invoice Quantity\\\\\":1,\\\\\"MRP Value\\\\\":1599,\\\\\"Cost Price\\\\\":340.0,\\\\\"Taxable Amount\\\\\":516.39,\\\\\"Total Tax\\\\\":26.36,\\\\\"Total Amount\\\\\":542.75,\\\\\"MRP Price\\\\\":1599}\",\\n    \"{\\\\\"Doc.Num\\\\\":1823146527,\\\\\"Itm.no\\\\\":12,\\\\\"Bill Date\\\\\":\\\\\"16-04-2022\\\\\",\\\\\"Currency\\\\\":\\\\\"INR\\\\\",\\\\\"Payer City\\\\\":\\\\\"MANCHERIAL\\\\\",\\\\\"Invoice Quantity\\\\\":300,\\\\\"MRP Value\\\\\":300,\\\\\"Cost Price\\\\\":4836.0,\\\\\"Taxable Amount\\\\\":68.64,\\\\\"Total Tax\\\\\":12.36,\\\\\"Total Amount\\\\\":81.0,\\\\\"MRP Price\\\\\":1}\",\\n    \"{\\\\\"Doc.Num\\\\\":1823146661,\\\\\"Itm.no\\\\\":12,\\\\\"Bill Date\\\\\":\\\\\"16-04-2022\\\\\",\\\\\"Currency\\\\\":\\\\\"INR\\\\\",\\\\\"Payer City\\\\\":\\\\\"HYDERABAD\\\\\",\\\\\"Invoice Quantity\\\\\":1,\\\\\"MRP Value\\\\\":2399,\\\\\"Cost Price\\\\\":504.2,\\\\\"Taxable Amount\\\\\":753.97,\\\\\"Total Tax\\\\\":37.7,\\\\\"Total Amount\\\\\":791.67,\\\\\"MRP Price\\\\\":2399}\"\\n]'"
      ]
     },
     "execution_count": 52,
     "metadata": {},
     "output_type": "execute_result"
    }
   ],
   "source": [
    "jsn_dmp"
   ]
  },
  {
   "cell_type": "code",
   "execution_count": null,
   "metadata": {
    "id": "86B0vCOgk4io"
   },
   "outputs": [],
   "source": []
  }
 ],
 "metadata": {
  "colab": {
   "provenance": []
  },
  "kernelspec": {
   "display_name": "Python 3 (ipykernel)",
   "language": "python",
   "name": "python3"
  },
  "language_info": {
   "codemirror_mode": {
    "name": "ipython",
    "version": 3
   },
   "file_extension": ".py",
   "mimetype": "text/x-python",
   "name": "python",
   "nbconvert_exporter": "python",
   "pygments_lexer": "ipython3",
   "version": "3.9.7"
  }
 },
 "nbformat": 4,
 "nbformat_minor": 1
}
